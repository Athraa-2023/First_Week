{
  "nbformat": 4,
  "nbformat_minor": 0,
  "metadata": {
    "colab": {
      "provenance": [],
      "authorship_tag": "ABX9TyOUpQbWmQQliaLb0c0b0IYw",
      "include_colab_link": true
    },
    "kernelspec": {
      "name": "python3",
      "display_name": "Python 3"
    },
    "language_info": {
      "name": "python"
    }
  },
  "cells": [
    {
      "cell_type": "markdown",
      "metadata": {
        "id": "view-in-github",
        "colab_type": "text"
      },
      "source": [
        "<a href=\"https://colab.research.google.com/github/Athraa-2023/First_Week/blob/main/untitled6.ipynb\" target=\"_parent\"><img src=\"https://colab.research.google.com/assets/colab-badge.svg\" alt=\"Open In Colab\"/></a>"
      ]
    },
    {
      "cell_type": "markdown",
      "source": [
        "# **First week**"
      ],
      "metadata": {
        "id": "4xgPjyrrRpv5"
      }
    },
    {
      "cell_type": "markdown",
      "source": [
        "we need to understand:\n",
        "\n",
        "\n",
        "*   Data type\n",
        "*   Expressions and Variables\n",
        "*   Single operations\n",
        "*   Lists and Tuples\n",
        "*   Dictionaries"
      ],
      "metadata": {
        "id": "Y7XAf30zTvEl"
      }
    },
    {
      "cell_type": "markdown",
      "source": [
        "# **Data types**"
      ],
      "metadata": {
        "id": "pF5iqICtVCnj"
      }
    },
    {
      "cell_type": "markdown",
      "source": [
        "There are different types of data, including numerical, boolean, sequential, and mapping\n",
        "\n",
        "*   Numeric type: integers, floating, and others\n",
        "*   Boolean type: True or False\n",
        "*   Sequence type: strings, lists, and tuples\n",
        "*   Mapping type: Dictionaries\n",
        "\n",
        "# **Expressions and Variables**\n",
        "\n",
        " expression: is comprises both numbers and variables together with at least one arithmetic operation.\n",
        "\n",
        " For example:\n",
        "      X + 6\n",
        "\n",
        " Variable: is a value that can change, depending on conditions or on information passed to the program.\n",
        "\n",
        " For example:\n",
        "     Name = Athraa\n",
        "     age = 23\n"
      ],
      "metadata": {
        "id": "geyvsMGUXDpM"
      }
    },
    {
      "cell_type": "code",
      "source": [
        "\n",
        "# Data type \n",
        "\n",
        "name = \"Fatimah\"  #string\n",
        "print(type(name))\n",
        "age = 45 #integer\n",
        "print(type(age))\n",
        "weight = 46.5  #float\n",
        "print(type(weight))\n",
        "is_married = True # boolean\n",
        "print(type(is_married))\n",
        "driving_license = None\n",
        "print(type(driving))\n",
        "\n",
        "# data conversion\n",
        "float(2)\n",
        "int(1.1)\n",
        "int('1')\n",
        "str(1)\n",
        "str(2.5)\n",
        "float('2')\n",
        "type(True)\n",
        "type(False)\n",
        "bool(0)\n",
        "bool(1)\n",
        "int(True)\n",
        "float(False)"
      ],
      "metadata": {
        "id": "eT-e_2pOVVp1"
      },
      "execution_count": null,
      "outputs": []
    },
    {
      "cell_type": "markdown",
      "source": [
        "# **Single operations**\n",
        "\n",
        "single operations are simple expressions that involve only one value or variable and an operator.\n",
        "\n",
        "here it is have some of functions in single operations\n",
        "\n",
        "*   round(): function can be used to roun a float to a specified.\n",
        "*   type conversion: the int(), float(), and str() functions can be used to convert value from one data type to another, Like in the previous code.\n",
        "*   len(): lingth of a string\n",
        "*   abs(): returns the absolute value of a number.\n",
        "\n",
        "\n",
        "\n",
        "\n",
        "\n"
      ],
      "metadata": {
        "id": "BUg5YFfEgkQP"
      }
    },
    {
      "cell_type": "markdown",
      "source": [
        "## **Lists and Tuples**\n",
        "\n",
        "**List** is used to store multiple items in one variable and can be created using square brackets [].\n",
        "\n",
        " **Tuples** also can store multiple items in a single variable and can be declared using parentheses ().\n",
        "\n",
        "# **Dictionaries**\n",
        "\n",
        "**Dictionaries** are used to store data values in key:value pairs.\n",
        "A dictionary is a collection which is ordered*, changeable and do not allow duplicates. {}\n",
        "\n"
      ],
      "metadata": {
        "id": "cEN64ymwpCIJ"
      }
    },
    {
      "cell_type": "code",
      "source": [
        "#lists\n",
        "names = ['sara', 'mariam', 1 , 3.4 , True]\n",
        "print(names)\n",
        "print(type(names))\n",
        "print(names[2])\n",
        "print(names[-1])\n",
        "names[0] = 'hasen'\n",
        "names.append(77)#  if we apply append is=nstead of extend we add one element to the list\n",
        "names.insert(2, 'raghad') \n",
        "names.remove('mariam')\n",
        "names.clear()# dlete all value of list\n",
        "L = ['Michael joun',10.1,1982,[1,2]('A, 1')]#List content\n",
        "'Michael joun'.split() # split the string, default is by space\n",
        "print(L)\n",
        "H = L\n",
        "H = L[:] #now if you change L, H will not change\n",
        "print(H)\n",
        "print(L[3:5]) # List Operations (slicing)\n",
        "L.extend(['pop', 10]) #We can use the method (ectend) to add new elements to the list\n",
        "A = ['disco',12 ,1.2 ]\n",
        "print('Before change' , A)\n",
        "A[0] = 'hard rock'\n",
        "print('After change:' , A)\n",
        "del(A[0])\n",
        "print(A)\n",
        "#tuples   \n",
        "child_one = ('Ahmed', 'ALahsaa','1-1-2023')\n",
        "print(type(child_one))\n",
        "print(child_one[0])\n",
        "tuple1 = ('desco',10,1.2)\n",
        "print(type(tuple1[0]))\n",
        "tuple2 = tuple1 + ('hard rock', 10)\n",
        "print(tuple2)\n",
        "tuple2[0:3]\n",
        "tuple2[3:5]\n",
        "len(tuple2)\n",
        "tuple2.index(1.2)\n",
        "C_tuple = (-5, 1, -3)\n",
        "C_list = sorted(C_tuple) #sorted list from the tuple\n",
        "\n",
        "print(C_list)\n",
        "\n",
        "# Dictionaries\n",
        "child_tow = {'name1': 'mohamed','birth_city': 'Riyadh', 'birthdate': '1-3-2021'}\n",
        "print(type(child_tow))\n",
        "print(child_tow['name1'])\n",
        "print(child_tow.values())\n",
        "print(child_tow.keys())\n"
      ],
      "metadata": {
        "id": "TySqRjZAvthU"
      },
      "execution_count": null,
      "outputs": []
    },
    {
      "cell_type": "code",
      "source": [
        "from random import randint\n",
        "\n",
        "#create a list of play options\n",
        "t = [\"Rock\", \"Paper\", \"Scissors\"]\n",
        "\n",
        "#assign a random play to the computer\n",
        "computer = t[randint(0,2)]\n",
        "\n",
        "#set player to False\n",
        "player = False\n",
        "\n",
        "while player == False:\n",
        "#set player to True\n",
        "    player = input(\"Rock, Paper, Scissors?\")\n",
        "    if player == computer:\n",
        "        print(\"Tie!\")\n",
        "    elif player == \"Rock\":\n",
        "        if computer == \"Paper\":\n",
        "            print(\"You lose!\", computer, \"covers\", player)\n",
        "        else:\n",
        "            print(\"You win!\", player, \"smashes\", computer)\n",
        "    elif player == \"Paper\":\n",
        "        if computer == \"Scissors\":\n",
        "            print(\"You lose!\", computer, \"cut\", player)\n",
        "        else:\n",
        "            print(\"You win!\", player, \"covers\", computer)\n",
        "    elif player == \"Scissors\":\n",
        "        if computer == \"Rock\":\n",
        "            print(\"You lose...\", computer, \"smashes\", player)\n",
        "        else:\n",
        "            print(\"You win!\", player, \"cut\", computer)\n",
        "    else:\n",
        "        print(\"That's not a valid play. Check your spelling!\")\n",
        "    #player was set to True, but we want it to be False so the loop continues\n",
        "    player = False\n",
        "    computer = t[randint(0,2)]"
      ],
      "metadata": {
        "id": "jI66JkSN5zOQ"
      },
      "execution_count": null,
      "outputs": []
    }
  ]
}